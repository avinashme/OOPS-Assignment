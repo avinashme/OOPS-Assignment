{
  "nbformat": 4,
  "nbformat_minor": 0,
  "metadata": {
    "colab": {
      "provenance": []
    },
    "kernelspec": {
      "name": "python3",
      "display_name": "Python 3"
    },
    "language_info": {
      "name": "python"
    }
  },
  "cells": [
    {
      "cell_type": "markdown",
      "source": [
        "Say hi! to your pet 🐾\n",
        "\n",
        "#Assignment 4: OOPs"
      ],
      "metadata": {
        "id": "6rDtjiz7zIiq"
      }
    },
    {
      "cell_type": "markdown",
      "source": [
        "Q1. What is Object-Oriented Programming (OOP)?\n",
        "\n",
        "Ans. Object-Oriented Programming (OOP) is a way of writing programs where we organize everything around objects instead of just functions and logic.\n",
        "\n",
        "* An object represents a real-world entity.\n",
        "\n",
        "* A class is like a blueprint or template to create objects.\n",
        "\n",
        ">>For example:\n",
        "\n",
        "* In real life, a Car is a class (blueprint).\n",
        "\n",
        "* A specific car like \"Honda City 2022\" is an object created from that blueprint."
      ],
      "metadata": {
        "id": "c5U9R-7zzx3J"
      }
    },
    {
      "cell_type": "markdown",
      "source": [
        "Q2. What is a class in OOP?\n",
        "\n",
        "Ans. A class is a blueprint or template in Object-Oriented Programming used to create objects.\n",
        "It defines attributes (data) and methods (functions/behaviors) that the objects will have.\n",
        "\n",
        "* Attributes → Variables inside a class (represent properties).\n",
        "\n",
        "* Methods → Functions inside a class (represent actions)."
      ],
      "metadata": {
        "id": "P5sp6DXc1OkT"
      }
    },
    {
      "cell_type": "markdown",
      "source": [
        "Q3. What is an object in OOP?\n",
        "\n",
        "Ans. An object is an instance of a class.\n",
        "It represents a real-world entity that has:\n",
        "\n",
        "* State (attributes / data) → e.g., color, model, price\n",
        "\n",
        "* Behavior (methods / functions) → e.g., start(), stop(), accelerate()\n",
        "\n",
        ">>Objects are created from a class (blueprint), and each object can hold its own unique data.\n",
        "\n",
        ">Key Points about Object:\n",
        "\n",
        "1. An object is created using the class constructor in Python.\n",
        "\n",
        "2. Multiple objects can be created from the same class.\n",
        "\n",
        "3. Each object has its own values for attributes but shares the same structure defined by the class.\n",
        "\n",
        ">In short:\n",
        "\n",
        ">>An object is a real-world entity created from a class.\n",
        "It combines data (attributes) and behavior (methods) into one unit."
      ],
      "metadata": {
        "id": "C3B9AZNJ1aIx"
      }
    },
    {
      "cell_type": "markdown",
      "source": [
        "Q4. What is the difference between abstraction and encapsulation?\n",
        "\n",
        "Ans. Abstraction\n",
        "\n",
        "* Abstraction means showing only important things and hiding extra details.\n",
        "\n",
        "* It focuses on what an object does.\n",
        "\n",
        "* Example: When you drive a car, you just use the steering, brakes, and accelerator. You don’t need to know how the engine works inside.\n",
        "\n",
        ">Encapsulation\n",
        "\n",
        "* Encapsulation means putting data and methods together inside a class.\n",
        "\n",
        "* It also means hiding the data so that it cannot be changed directly.\n",
        "\n",
        "* Example: A bank account class keeps balance hidden, and you can only access it through methods like deposit() or withdraw()."
      ],
      "metadata": {
        "id": "1qR-2SdO2GFX"
      }
    },
    {
      "cell_type": "code",
      "source": [
        "# Encapsulation Example\n",
        "class BankAccount:\n",
        "    def __init__(self, balance):\n",
        "        self.__balance = balance   # private variable\n",
        "\n",
        "    def deposit(self, amount):\n",
        "        self.__balance += amount\n",
        "\n",
        "    def get_balance(self):\n",
        "        return self.__balance\n",
        "\n",
        "acc = BankAccount(1000)\n",
        "acc.deposit(500)\n",
        "print(acc.get_balance())   # 1500\n"
      ],
      "metadata": {
        "id": "NG60K36B2-y9"
      },
      "execution_count": null,
      "outputs": []
    },
    {
      "cell_type": "markdown",
      "source": [
        "Q5. What are dunder methods in Python?\n",
        "\n",
        "Ans. Dunder methods (also called magic methods or special methods) are the methods in Python whose names start and end with double underscores __.\n",
        "\n",
        "* “Dunder” means Double UNDERscore.\n",
        "\n",
        "* These methods are automatically called by Python in certain situations.\n",
        "\n",
        "* They allow us to define how objects of a class should behave.\n",
        "\n",
        "Examples of Dunder Methods\n",
        "\n",
        "1. __init__ → Constructor, called when an object is created.\n",
        "\n",
        "2. __str__ → Defines how the object should be printed as a string.\n",
        "\n",
        "3. __len__ → Defines behavior of len(object).\n",
        "\n",
        "4. __add__ → Defines behavior of + operator for objects."
      ],
      "metadata": {
        "id": "WXJjIDQH2rpM"
      }
    },
    {
      "cell_type": "markdown",
      "source": [
        "Q6. Explain the concept of inheritance in OOP.\n",
        "\n",
        "Ans:\n",
        "* Inheritance is an OOP concept where one class (child/derived class) can use the properties and methods of another class (parent/base class).\n",
        "\n",
        "* It helps in code reusability and avoids repetition.\n",
        "\n",
        "Key Points\n",
        "\n",
        "* Parent/Base Class → The class whose features are inherited.\n",
        "\n",
        "* Child/Derived Class → The class that inherits features from the parent.\n",
        "\n",
        "* Python supports single, multiple, and multilevel inheritance.\n",
        "\n",
        "Real-life Example\n",
        "\n",
        "* A Vehicle class has attributes like speed, fuel, and methods like start() or stop().\n",
        "\n",
        "* A Car class can inherit from Vehicle and automatically get those features, plus it can add new ones like air_conditioner()."
      ],
      "metadata": {
        "id": "CuzP_eP83cSr"
      }
    },
    {
      "cell_type": "markdown",
      "source": [
        "Q7. What is polymorphism in OOP?\n",
        "\n",
        "Ans:\n",
        "* Polymorphism means one name but many forms.\n",
        "\n",
        "* In OOP, it allows the same method or operator to behave differently depending on the object or data type.\n",
        "\n",
        "Key Points\n",
        "\n",
        "* A method with the same name can perform different actions in different classes.\n",
        "\n",
        "* It makes code flexible and reusable.\n",
        "\n",
        "Two common types:\n",
        "\n",
        "* Method Overriding → Child class provides a new version of a parent’s method.\n",
        "\n",
        "* Operator Overloading → Same operator works differently (e.g., + adds numbers, joins strings).\n",
        "\n",
        "Simple Example (in words)\n",
        "\n",
        "* A Dog class and a Cat class can both have a method sound().\n",
        "\n",
        "* For Dog, sound() → \"Bark\"\n",
        "\n",
        "* For Cat, sound() → \"Meow\"\n",
        "\n",
        "* When we call sound(), the output depends on the object."
      ],
      "metadata": {
        "id": "1R-BF4Xw4huV"
      }
    },
    {
      "cell_type": "markdown",
      "source": [
        "Q8. How is encapsulation achieved in Python?\n",
        "\n",
        "Ans:\n",
        "* Encapsulation means binding data (variables) and methods (functions) together inside a class and restricting direct access to data.\n",
        "\n",
        "* In Python, encapsulation is achieved using access modifiers:\n",
        "\n",
        ">Ways to Achieve Encapsulation\n",
        "\n",
        "1. Public members → Accessible from anywhere.\n",
        "Example: self.name\n",
        "\n",
        "2. Protected members (prefix with _) → Should not be accessed directly outside the class (convention).\n",
        "Example: self._salary\n",
        "\n",
        "3. Private members (prefix with __) → Cannot be accessed directly from outside the class.\n",
        "Example: self.__balance"
      ],
      "metadata": {
        "id": "AdAtUS8a6CtA"
      }
    },
    {
      "cell_type": "markdown",
      "source": [
        "Q9. What is a constructor in Python?\n",
        "\n",
        "Ans:\n",
        "* A constructor is a special method in Python that is automatically called when an object of a class is created.\n",
        "\n",
        "* It is used to initialize the object’s attributes with values.\n",
        "\n",
        "* In Python, the constructor method is always named __init__.\n",
        "\n",
        "Key Points\n",
        "\n",
        "* Defined using def __init__(self, ...):\n",
        "\n",
        "* Runs only once when the object is created.\n",
        "\n",
        "* Helps in giving initial values to object variables.\n",
        "\n",
        "Example:\n",
        "\n",
        "If we have a Student class, its constructor can set the student’s name and marks when the object is created."
      ],
      "metadata": {
        "id": "o6KtzoAp6goi"
      }
    },
    {
      "cell_type": "markdown",
      "source": [
        "Q10. What are class and static methods in Python?\n",
        "\n",
        "Ans:\n",
        "1. Class Method\n",
        "\n",
        ">* A class method is a method that works with the class itself, not just the objects.\n",
        "\n",
        ">* It is defined using the @classmethod decorator.\n",
        "\n",
        ">* The first parameter is always cls (represents the class).\n",
        "\n",
        ">* Used to access or modify class-level variables.\n",
        "\n",
        "2. Static Method\n",
        "\n",
        ">* A static method does not depend on class or object.\n",
        "\n",
        ">* It is defined using the @staticmethod decorator.\n",
        "\n",
        ">* It does not take self (object) or cls (class) as the first argument.\n",
        "\n",
        ">* Used for utility/helper functions that are related to the class but don’t need class/object data."
      ],
      "metadata": {
        "id": "hUfePxFo7ILv"
      }
    },
    {
      "cell_type": "markdown",
      "source": [
        "Q11. What is method overloading in Python?\n",
        "\n",
        "Ans:\n",
        "* Method overloading means having multiple methods with the same name but different parameters.\n",
        "\n",
        "* In many languages (like Java, C++), method overloading is directly supported.\n",
        "\n",
        "* In Python, true method overloading is not directly supported.\n",
        "\n",
        "* If we define a method multiple times with the same name, the last definition will override the previous ones.\n",
        "\n",
        "How it is achieved in Python?\n",
        "\n",
        "* Python handles it using default arguments or *args to allow a method to accept different numbers of parameters.\n",
        "\n",
        "Example:\n",
        "\n",
        "A Math class may have a method add():\n",
        "\n",
        "* add(2, 3) → adds two numbers\n",
        "\n",
        "* add(2, 3, 4) → adds three numbers\n",
        "\n",
        "In Python, this can be done using default values or variable-length arguments instead of true overloading."
      ],
      "metadata": {
        "id": "LCjuLoMX7p_d"
      }
    },
    {
      "cell_type": "markdown",
      "source": [
        "Q12. What is method overriding in OOP?\n",
        "\n",
        "Ans:\n",
        "* Method overriding happens when a child class defines a method that already exists in its parent class, but with a different implementation.\n",
        "\n",
        "* It allows the child class to provide its own version of the method.\n",
        "\n",
        "* The method name, number of arguments, and return type should be the same.\n",
        "\n",
        "Key Points\n",
        "\n",
        "* Achieved through inheritance.\n",
        "\n",
        "* Parent class method is replaced by child class method at runtime.\n",
        "\n",
        "* If needed, the parent’s version can still be called using super().\n",
        "\n",
        "Real-life Example\n",
        "\n",
        "* A parent class Animal has a method sound().\n",
        "\n",
        "* A child class Dog overrides it to return \"Bark\".\n",
        "\n",
        "* A child class Cat overrides it to return \"Meow\"."
      ],
      "metadata": {
        "id": "dwX--tER8bt_"
      }
    },
    {
      "cell_type": "markdown",
      "source": [
        "Q13. What is a property decorator in Python?\n",
        "\n",
        "Ans:\n",
        "* A property decorator in Python (@property) is used to make a method act like an attribute.\n",
        "\n",
        "* It allows us to access methods without using parentheses (), making the code more readable.\n",
        "\n",
        "* Commonly used to implement getters, setters, and deleters in a simple way.\n",
        "\n",
        "Key Points\n",
        "\n",
        "* @property → used for getter (to read value like an attribute).\n",
        "\n",
        "* @method_name.setter → used to set/update the value.\n",
        "\n",
        "* @method_name.deleter → used to delete the value.\n",
        "\n",
        "Example (in words)\n",
        "\n",
        "* If we have a class Student with a method get_marks(), we can use @property so that we can write student.marks instead of student.get_marks()."
      ],
      "metadata": {
        "id": "jkKK6Oe_83fH"
      }
    },
    {
      "cell_type": "markdown",
      "source": [],
      "metadata": {
        "id": "Q6XFDTaN7Eoa"
      }
    },
    {
      "cell_type": "markdown",
      "source": [
        "Q14. Why is polymorphism important in OOP?\n",
        "\n",
        "Ans:\n",
        "* Polymorphism means one name but many forms.\n",
        "\n",
        "* It is important because it makes programs more flexible, reusable, and easier to maintain.\n",
        "\n",
        "Key Reasons\n",
        "\n",
        "1. Code Reusability → Same method name can be used in different classes (e.g., sound() in Dog, Cat, Bird).\n",
        "\n",
        "2. Flexibility → The same function can work with different types of objects.\n",
        "\n",
        "3. Readability → Reduces confusion by using common names for similar actions.\n",
        "\n",
        "4. Extensibility → New classes can be added without changing existing code.\n",
        "\n",
        "Real-life Example:\n",
        "\n",
        "* A function make_sound(animal) can work for Dog, Cat, or Cow objects.\n",
        "\n",
        "* Each gives a different sound, but the function name remains the same."
      ],
      "metadata": {
        "id": "pw0kHEsO9P2n"
      }
    },
    {
      "cell_type": "markdown",
      "source": [
        "Q15. What is an abstract class in Python?\n",
        "\n",
        "Ans:\n",
        "* An abstract class is a class that cannot be directly instantiated (we cannot create objects from it).\n",
        "\n",
        "* It is used to provide a common structure for other classes.\n",
        "\n",
        "* It may contain abstract methods (methods declared but not defined).\n",
        "\n",
        "* Child classes must implement these abstract methods.\n",
        "\n",
        "Key Points\n",
        "\n",
        "* Defined using the abc (Abstract Base Class) module.\n",
        "\n",
        "* @abstractmethod decorator is used to declare abstract methods.\n",
        "\n",
        "* Used when we want to force subclasses to follow a specific structure.\n",
        "\n",
        "Real-life Example:\n",
        "\n",
        "* Suppose we have an abstract class Shape with an abstract method area().\n",
        "\n",
        "* Subclasses like Circle and Rectangle must provide their own implementation of area().\n"
      ],
      "metadata": {
        "id": "H1R7V0Ui96tR"
      }
    },
    {
      "cell_type": "markdown",
      "source": [
        "Q16. What are the advantages of OOP?\n",
        "\n",
        ">Advantages of Object-Oriented Programming (OOP):\n",
        "\n",
        ">1. Modularity: Code is organized into classes and objects, making it easier to manage and debug.\n",
        "\n",
        ">2. Reusability: Classes can be reused across programs using inheritance.\n",
        "\n",
        ">3. Encapsulation: Data and methods are bundled together, protecting internal data from unauthorized access.\n",
        "\n",
        ">4. Abstraction: Hides complex implementation details and shows only essential features.\n",
        "\n",
        ">5. Polymorphism: Same interface can be used for different object types, providing flexibility.\n",
        "\n",
        ">6. Maintainability: OOP code is easier to update and maintain due to modular structure.\n",
        "\n",
        ">7. Real-world modeling: Objects can represent real-world entities, making programs intuitive.\n",
        "\n",
        ">8. Extensibility: New features can be added with minimal changes to existing code."
      ],
      "metadata": {
        "id": "_0OKoe6z-ZDH"
      }
    },
    {
      "cell_type": "markdown",
      "source": [
        "Q17.What is the difference between a class variable and an instance variable?\n",
        "\n",
        "> The **comparison of Class Variable vs Instance Variable** :\n",
        "\n",
        "1. **Definition**:\n",
        "\n",
        "   * **Class Variable**: Shared by all instances of the class.\n",
        "   * **Instance Variable**: Unique to each object/instance of the class.\n",
        "\n",
        "2. **Declared**:\n",
        "\n",
        "   * **Class Variable**: Inside the class, **outside any method**.\n",
        "   * **Instance Variable**: Inside the **constructor (`__init__`)** or methods using `self`.\n",
        "\n",
        "3. **Access**:\n",
        "\n",
        "   * **Class Variable**: Accessed by **class name** or **object**.\n",
        "   * **Instance Variable**: Accessed only by the **object** using `self`.\n",
        "\n",
        "4. **Memory**:\n",
        "\n",
        "   * **Class Variable**: Stored **once** for all objects.\n",
        "   * **Instance Variable**: Each object has its **own copy**.\n",
        "\n",
        "5. **Use Case**:\n",
        "\n",
        "   * **Class Variable**: To store **common properties** for all objects.\n",
        "   * **Instance Variable**: To store **object-specific properties**."
      ],
      "metadata": {
        "id": "k9DnLjfw-klr"
      }
    },
    {
      "cell_type": "markdown",
      "source": [
        "Q18.What is multiple inheritance in Python?\n",
        "\n",
        ">**Multiple Inheritance** in Python is a feature where a **child class can inherit from more than one parent class**.\n",
        "\n",
        "> Key Points:\n",
        "\n",
        ">1. Allows a class to **reuse attributes and methods** from multiple parent classes.\n",
        ">2. Helps in **combining functionalities** from different classes.\n",
        ">3. **Method Resolution Order (MRO)** decides which parent’s method is called if multiple parents have the same method.\n",
        "\n",
        "### **Syntax:**\n",
        "\n",
        "```python\n",
        "class Parent1:\n",
        "    def func1(self):\n",
        "        print(\"Function from Parent1\")\n",
        "\n",
        "class Parent2:\n",
        "    def func2(self):\n",
        "        print(\"Function from Parent2\")\n",
        "\n",
        "class Child(Parent1, Parent2):   # Inherits from both Parent1 and Parent2\n",
        "    def func3(self):\n",
        "        print(\"Function from Child\")\n",
        "\n",
        "c = Child()\n",
        "c.func1()  # Output: Function from Parent1\n",
        "c.func2()  # Output: Function from Parent2\n",
        "c.func3()  # Output: Function from Child\n",
        "```"
      ],
      "metadata": {
        "id": "-WE9Ifzu-tbS"
      }
    },
    {
      "cell_type": "markdown",
      "source": [
        "Q19. Explain the purpose of ‘’__str__’ and ‘__repr__’ ‘ methods in Python.\n",
        "\n",
        "Ans:\n",
        "1. __str__ method\n",
        "\n",
        "* Used to return a user-friendly string representation of an object.\n",
        "\n",
        "* Purpose: Makes the object easier to read/understand when printed.\n",
        "\n",
        "* Called when we use print(object) or str(object).\n",
        "\n",
        "👉 Think of it as: “What should a normal user see?”\n",
        "\n",
        "2. __repr__ method\n",
        "\n",
        "* Used to return a developer-friendly string representation of an object.\n",
        "\n",
        "* Purpose: Gives detailed information, often used for debugging.\n",
        "\n",
        "* Called when we use repr(object) or directly type object name in Python shell.\n",
        "\n",
        "👉 Think of it as: “What should a programmer see?”\n",
        "\n",
        " Simple Example\n",
        "\n",
        " If we have a Book object:\n",
        "\n",
        "* __str__ may return → \"Harry Potter by J.K. Rowling\".\n",
        "\n",
        "* __repr__ may return → \"Book(title='Harry Potter', author='J.K. Rowling')\" (with details for debugging)."
      ],
      "metadata": {
        "id": "t43fcVXt_Qlg"
      }
    },
    {
      "cell_type": "markdown",
      "source": [],
      "metadata": {
        "id": "cIYlFl2a_L_x"
      }
    },
    {
      "cell_type": "markdown",
      "source": [
        "Q20. What is the significance of the ‘super()’ function in Python?\n",
        "\n",
        ">The super() function in Python is used to call methods from a parent (superclass) inside a child (subclass).\n",
        "\n",
        ">Significance of super()\n",
        "\n",
        ">1. Access Parent Class Methods → Calls the parent class’s constructor (__init__) or other methods without explicitly naming the parent.\n",
        "\n",
        ">2. Code Reusability → Avoids rewriting parent code in the child class.\n",
        "\n",
        ">3. Supports Multiple Inheritance → Ensures the correct Method Resolution Order (MRO) is followed when multiple parents exist.\n",
        "\n",
        ">4. Clean & Maintainable Code → If the parent class name changes, super() still works."
      ],
      "metadata": {
        "id": "VLEbcHZh__Qq"
      }
    },
    {
      "cell_type": "markdown",
      "source": [
        "Q21. What is the significance of the __del__ method in Python?\n",
        "\n",
        ">The __del__ method in Python is a destructor method, which is called automatically when an object is about to be destroyed (i.e., when it is no longer referenced in memory).\n",
        "\n",
        ">Significance of __del__:\n",
        "\n",
        ">1. Resource Cleanup → Used to release resources like closing files, network connections, or database connections before the object is deleted.\n",
        "\n",
        ">2. Finalization → Provides a way to define custom cleanup behavior when an object’s life ends.\n",
        "\n",
        ">3. Garbage Collection Support → Called automatically by Python’s garbage collector when an object’s reference count becomes zero"
      ],
      "metadata": {
        "id": "gnCvcb6zAKGa"
      }
    },
    {
      "cell_type": "markdown",
      "source": [
        "Q22. What is the difference between @staticmethod and @classmethod in Python?\n",
        "\n",
        ">Difference between  @staticmethod and @classmethod in Python\n",
        "\n",
        "* **Definition**:\n",
        "  Classmethod → Bound to class, takes `cls`\n",
        "  Staticmethod → Bound to class, no `self` or `cls`\n",
        "\n",
        "* **First Argument**:\n",
        "  Classmethod → `cls` (class reference)\n",
        "  Staticmethod → No default argument\n",
        "\n",
        "* **Access**:\n",
        "  Classmethod → Can access/modify **class variables**\n",
        "  Staticmethod → Cannot access class or instance variables\n",
        "\n",
        "* **Usage**:\n",
        "  Classmethod → When you need to work with the **class state**\n",
        "  Staticmethod → When logic is **independent of class and object**\n",
        "\n",
        "* **Calling**:\n",
        "  Both can be called via **ClassName.method()** or **object.method()**\n"
      ],
      "metadata": {
        "id": "6C9HWaDNAS_K"
      }
    },
    {
      "cell_type": "markdown",
      "source": [
        "Q23. How does polymorphism work in Python with inheritance?\n",
        "\n",
        "Ans:\n",
        "* Polymorphism means same method name, but different behaviors depending on the object.\n",
        "\n",
        "* When we use inheritance, the child class can override parent class methods.\n",
        "\n",
        "* This allows the same method call to produce different results for different objects.\n",
        "\n",
        "How it works?\n",
        "\n",
        "1. Parent class defines a method.\n",
        "\n",
        "2. Child class inherits that method but can redefine (override) it.\n",
        "\n",
        "3. When the method is called, Python automatically chooses the child class version (if available).\n",
        "\n",
        "Real-life Example (in words)\n",
        "\n",
        "* Suppose we have a parent class Animal with a method speak().\n",
        "\n",
        "* Child classes:\n",
        "\n",
        ">* Dog overrides speak() → says \"Woof!\"\n",
        "\n",
        ">* Cat overrides speak() → says \"Meow!\"\n",
        "\n",
        "* Now, calling speak() on a Dog object or Cat object gives different outputs, even though the method name is the same."
      ],
      "metadata": {
        "id": "-8V8COt8AutD"
      }
    },
    {
      "cell_type": "markdown",
      "source": [
        "Q24. What is method chaining in Python OOP?\n",
        "\n",
        "Ans:\n",
        "* Method Chaining means calling multiple methods on the same object in a single line.\n",
        "\n",
        "* This works when each method returns the object itself (self), so the next method can be applied to it.\n",
        "\n",
        "* It makes code shorter, cleaner, and more readable.\n",
        "\n",
        "How it works\n",
        "\n",
        "1. A class defines methods.\n",
        "\n",
        "2. Each method performs some task and then returns self (the current object).\n",
        "\n",
        "3. Because of this, methods can be linked together like a chain.\n",
        "\n",
        "Example:\n",
        "\n",
        "* If we have a Car object:\n",
        "\n",
        "* car.start().drive().stop()\n",
        "Here,\n",
        "\n",
        "* start() returns the car object → so drive() can be called.\n",
        "\n",
        "* drive() again returns the same car object → so stop() can be called."
      ],
      "metadata": {
        "id": "ub6UGy-6BRcM"
      }
    },
    {
      "cell_type": "markdown",
      "source": [
        "Q25. What is the purpose of the __call__ method in Python?\n",
        "\n",
        "Ans:\n",
        "* In Python, the __call__ method allows an object to be called like a function.\n",
        "\n",
        "* If a class defines __call__, then its objects can be used with parentheses () as if they were functions.\n",
        "\n",
        "* Purpose: It makes objects more flexible and powerful, often used in cases like caching, decorators, or function-like behavior.\n",
        "\n",
        "How it works (in words)\n",
        "\n",
        "1. Normally, we call functions with function_name().\n",
        "\n",
        "2. If a class has __call__, we can call the object itself in the same way.\n",
        "\n",
        "3. Inside __call__, we define what should happen when the object is “called.”\n",
        "\n",
        "Example (conceptual, not long code)\n",
        "\n",
        "* Suppose we create an object adder = Adder().\n",
        "\n",
        "* If the class Adder has __call__, then we can write:\n",
        "\n",
        ">adder(5, 10) → this will execute the __call__ method inside the class."
      ],
      "metadata": {
        "id": "EIST5h-BCIrQ"
      }
    },
    {
      "cell_type": "markdown",
      "source": [
        "# Practical Questions:\n"
      ],
      "metadata": {
        "id": "swmn9qHJCszM"
      }
    },
    {
      "cell_type": "code",
      "source": [
        "'''1. Create a parent class Animal with a method speak() that prints a generic message. Create a child class Dog that overrides the speak() method to print \"Bark!\".\n",
        "'''\n",
        "# Parent class\n",
        "class Animal:\n",
        "    def speak(self):\n",
        "        print(\"Some animal sound...\")\n",
        "\n",
        "# Child class (Dog = Ichi the Dog from Doraemon 🐶)\n",
        "class Dog(Animal):\n",
        "    def speak(self):\n",
        "        print(\"Bark! Bark! I am Ichi 🐾\")\n",
        "\n",
        "# Objects\n",
        "generic_animal = Animal()\n",
        "ichi = Dog()\n",
        "\n",
        "# Output\n",
        "generic_animal.speak()   # Generic sound\n",
        "ichi.speak()             # Ichi's special sound\n"
      ],
      "metadata": {
        "colab": {
          "base_uri": "https://localhost:8080/"
        },
        "id": "4r4ZF0hmC5j2",
        "outputId": "3fd5b6ac-5bea-4156-d80b-530dcd6e53ee"
      },
      "execution_count": 1,
      "outputs": [
        {
          "output_type": "stream",
          "name": "stdout",
          "text": [
            "Some animal sound...\n",
            "Bark! Bark! I am Ichi 🐾\n"
          ]
        }
      ]
    },
    {
      "cell_type": "code",
      "source": [
        "'''2. Write a program to create an abstract class Shape with a method area(). Derive classes Circle and Rectangle from it and implement the area() method in both.'''\n",
        "from abc import ABC, abstractmethod\n",
        "import math\n",
        "\n",
        "# Abstract class\n",
        "class Shape(ABC):\n",
        "    @abstractmethod\n",
        "    def area(self):\n",
        "        pass\n",
        "\n",
        "# Circle = Doraemon ka \"Time Machine\" wheel 🌀\n",
        "class Circle(Shape):\n",
        "    def __init__(self, radius):\n",
        "        self.radius = radius\n",
        "\n",
        "    def area(self):\n",
        "        return math.pi * self.radius * self.radius\n",
        "\n",
        "# Rectangle = Nobita ka homework notebook 📓\n",
        "class Rectangle(Shape):\n",
        "    def __init__(self, length, width):\n",
        "        self.length = length\n",
        "        self.width = width\n",
        "\n",
        "    def area(self):\n",
        "        return self.length * self.width\n",
        "\n",
        "# Objects\n",
        "time_machine_wheel = Circle(7)\n",
        "nobita_notebook = Rectangle(10, 5)\n",
        "\n",
        "print(\"Area of Doraemon's Time Machine wheel:\", time_machine_wheel.area())\n",
        "print(\"Area of Nobita's Homework Notebook:\", nobita_notebook.area())\n"
      ],
      "metadata": {
        "colab": {
          "base_uri": "https://localhost:8080/"
        },
        "id": "79h8FOCxEqSj",
        "outputId": "3df73a11-e3e1-427f-95f4-cad2b32f809a"
      },
      "execution_count": 2,
      "outputs": [
        {
          "output_type": "stream",
          "name": "stdout",
          "text": [
            "Area of Doraemon's Time Machine wheel: 153.93804002589985\n",
            "Area of Nobita's Homework Notebook: 50\n"
          ]
        }
      ]
    },
    {
      "cell_type": "code",
      "source": [
        "'''3. Implement a multi-level inheritance scenario where a class Vehicle has an attribute type. Derive a class Car and further derive a class ElectricCar that\n",
        "adds a battery attribute.'''\n",
        "# Base class = Vehicle (General Transport 🚗)\n",
        "class Vehicle:\n",
        "    def __init__(self, vehicle_type):\n",
        "        self.vehicle_type = vehicle_type\n",
        "\n",
        "    def show_info(self):\n",
        "        print(f\"This is a {self.vehicle_type}.\")\n",
        "\n",
        "# Car = Gian ki car 🚘\n",
        "class Car(Vehicle):\n",
        "    def __init__(self, vehicle_type, brand):\n",
        "        super().__init__(vehicle_type)\n",
        "        self.brand = brand\n",
        "\n",
        "    def show_info(self):\n",
        "        super().show_info()\n",
        "        print(f\"The brand of the car is {self.brand}.\")\n",
        "\n",
        "# ElectricCar = Suneo ki fancy Electric Car ⚡🚗\n",
        "class ElectricCar(Car):\n",
        "    def __init__(self, vehicle_type, brand, battery):\n",
        "        super().__init__(vehicle_type, brand)\n",
        "        self.battery = battery\n",
        "\n",
        "    def show_info(self):\n",
        "        super().show_info()\n",
        "        print(f\"It has a {self.battery} kWh battery.\")\n",
        "\n",
        "\n",
        "# Objects\n",
        "gian_car = Car(\"Car\", \"Suzuki\")\n",
        "suneo_electric = ElectricCar(\"Electric Car\", \"Tesla\", 85)\n",
        "\n",
        "print(\"=== Gian's Car ===\")\n",
        "gian_car.show_info()\n",
        "\n",
        "print(\"\\n=== Suneo's Fancy Electric Car ===\")\n",
        "suneo_electric.show_info()\n"
      ],
      "metadata": {
        "colab": {
          "base_uri": "https://localhost:8080/"
        },
        "id": "QVS8_CVyEw2k",
        "outputId": "18f3563a-8f5c-4a06-df1a-abf3c8957d5e"
      },
      "execution_count": 4,
      "outputs": [
        {
          "output_type": "stream",
          "name": "stdout",
          "text": [
            "=== Gian's Car ===\n",
            "This is a Car.\n",
            "The brand of the car is Suzuki.\n",
            "\n",
            "=== Suneo's Fancy Electric Car ===\n",
            "This is a Electric Car.\n",
            "The brand of the car is Tesla.\n",
            "It has a 85 kWh battery.\n"
          ]
        }
      ]
    },
    {
      "cell_type": "code",
      "source": [
        "'''4. Demonstrate polymorphism by creating a base class Bird with a method fly(). Create two derived classes Sparrow and Penguin that override the fly() method.'''\n",
        "# Base class Bird 🐦\n",
        "class Bird:\n",
        "    def fly(self):\n",
        "        print(\"This bird can fly in its own way...\")\n",
        "\n",
        "# Sparrow = Shizuka ki cute bird 🐦\n",
        "class Sparrow(Bird):\n",
        "    def fly(self):\n",
        "        print(\"Sparrow flies high in the sky 🌤️\")\n",
        "\n",
        "# Penguin = Doraemon ka funny bird 🐧\n",
        "class Penguin(Bird):\n",
        "    def fly(self):\n",
        "        print(\"Penguins cannot fly, they slide on ice ⛄🐧\")\n",
        "\n",
        "\n",
        "# Function showing polymorphism\n",
        "def show_flying(bird):\n",
        "    bird.fly()\n",
        "\n",
        "\n",
        "# Objects\n",
        "shizuka_sparrow = Sparrow()\n",
        "doraemon_penguin = Penguin()\n",
        "\n",
        "print(\"=== Shizuka's Sparrow ===\")\n",
        "show_flying(shizuka_sparrow)\n",
        "\n",
        "print(\"\\n=== Doraemon's Penguin ===\")\n",
        "show_flying(doraemon_penguin)\n"
      ],
      "metadata": {
        "colab": {
          "base_uri": "https://localhost:8080/"
        },
        "id": "LozyAJchFFAH",
        "outputId": "e7b9110e-0174-4589-8f72-5458897701ec"
      },
      "execution_count": 5,
      "outputs": [
        {
          "output_type": "stream",
          "name": "stdout",
          "text": [
            "=== Shizuka's Sparrow ===\n",
            "Sparrow flies high in the sky 🌤️\n",
            "\n",
            "=== Doraemon's Penguin ===\n",
            "Penguins cannot fly, they slide on ice ⛄🐧\n"
          ]
        }
      ]
    },
    {
      "cell_type": "code",
      "source": [
        "'''5. Write a program to demonstrate encapsulation by creating a class BankAccount with private attributes balance and methods to deposit, withdraw, and check balance.'''\n",
        "class BankAccount:\n",
        "    def __init__(self, owner, balance=0):\n",
        "        self.owner = owner\n",
        "        self.__balance = balance   # private attribute\n",
        "\n",
        "    # Deposit method\n",
        "    def deposit(self, amount):\n",
        "        if amount > 0:\n",
        "            self.__balance += amount\n",
        "            print(f\"{self.owner} deposited {amount} 💰\")\n",
        "        else:\n",
        "            print(\"Invalid deposit amount!\")\n",
        "\n",
        "    # Withdraw method\n",
        "    def withdraw(self, amount):\n",
        "        if 0 < amount <= self.__balance:\n",
        "            self.__balance -= amount\n",
        "            print(f\"{self.owner} withdrew {amount} 💸\")\n",
        "        else:\n",
        "            print(\"Insufficient balance or invalid amount!\")\n",
        "\n",
        "    # Check balance method\n",
        "    def check_balance(self):\n",
        "        print(f\"{self.owner}'s Balance: {self.__balance} coins 🏦\")\n",
        "\n",
        "\n",
        "# Doraemon creates a secret bank account for Nobita\n",
        "nobita_account = BankAccount(\"Nobita\", 100)\n",
        "\n",
        "# Operations\n",
        "nobita_account.deposit(50)\n",
        "nobita_account.withdraw(30)\n",
        "nobita_account.check_balance()\n",
        "\n",
        "# Trying to access private balance directly ❌\n",
        "print(\"\\nTrying to hack balance directly...\")\n",
        "try:\n",
        "    print(nobita_account.__balance)  # Error: cannot access private attribute\n",
        "except AttributeError:\n",
        "    print(\"Access Denied! Balance is private 🔒\")\n"
      ],
      "metadata": {
        "colab": {
          "base_uri": "https://localhost:8080/"
        },
        "id": "1D9BbjIkFY-N",
        "outputId": "201bc35d-102c-4eda-8146-e138e8a347bd"
      },
      "execution_count": 6,
      "outputs": [
        {
          "output_type": "stream",
          "name": "stdout",
          "text": [
            "Nobita deposited 50 💰\n",
            "Nobita withdrew 30 💸\n",
            "Nobita's Balance: 120 coins 🏦\n",
            "\n",
            "Trying to hack balance directly...\n",
            "Access Denied! Balance is private 🔒\n"
          ]
        }
      ]
    },
    {
      "cell_type": "code",
      "source": [
        "'''6. Demonstrate runtime polymorphism using a method play() in a base class Instrument. Derive classes Guitar and Piano that implement their own version of play().'''\n",
        "# Base class\n",
        "class Instrument:\n",
        "    def play(self):\n",
        "        print(\"Some instrument is playing... 🎵\")\n",
        "\n",
        "# Derived class 1\n",
        "class Guitar(Instrument):\n",
        "    def play(self):\n",
        "        print(\"🎸 Shizuka is playing Guitar - 'La La La Doraemon' tune!\")\n",
        "\n",
        "# Derived class 2\n",
        "class Piano(Instrument):\n",
        "    def play(self):\n",
        "        print(\"🎹 Dekisugi is playing Piano - a beautiful melody!\")\n",
        "\n",
        "# Runtime polymorphism in action\n",
        "def start_music(instrument):\n",
        "    instrument.play()\n",
        "\n",
        "# Doraemon gives instruments to friends\n",
        "g1 = Guitar()\n",
        "p1 = Piano()\n",
        "\n",
        "# Same method call, different results\n",
        "start_music(g1)\n",
        "start_music(p1)\n"
      ],
      "metadata": {
        "colab": {
          "base_uri": "https://localhost:8080/"
        },
        "id": "Uv6drnrKFnOL",
        "outputId": "cccaaa9a-a1d5-4977-a76e-ced85db74d77"
      },
      "execution_count": 7,
      "outputs": [
        {
          "output_type": "stream",
          "name": "stdout",
          "text": [
            "🎸 Shizuka is playing Guitar - 'La La La Doraemon' tune!\n",
            "🎹 Dekisugi is playing Piano - a beautiful melody!\n"
          ]
        }
      ]
    },
    {
      "cell_type": "code",
      "source": [
        "'''7. Create a class MathOperations with a class method add_numbers() to add two numbers and a static method subtract_numbers() to subtract two numbers.'''\n",
        "class MathOperations:\n",
        "    # Class method → needs 'cls'\n",
        "    @classmethod\n",
        "    def add_numbers(cls, a, b):\n",
        "        print(f\"Doraemon used Gadget ➕ to add: {a} + {b} = {a+b}\")\n",
        "        return a + b\n",
        "\n",
        "    # Static method → does not need 'self' or 'cls'\n",
        "    @staticmethod\n",
        "    def subtract_numbers(a, b):\n",
        "        print(f\"Nobita tried subtraction ➖: {a} - {b} = {a-b}\")\n",
        "        return a - b\n",
        "\n",
        "# Using class method\n",
        "result1 = MathOperations.add_numbers(10, 5)\n",
        "\n",
        "# Using static method\n",
        "result2 = MathOperations.subtract_numbers(10, 5)\n"
      ],
      "metadata": {
        "colab": {
          "base_uri": "https://localhost:8080/"
        },
        "id": "qcw1CWBhF6ed",
        "outputId": "af57fb8a-cda5-4c6c-d2d6-e6e437a64df7"
      },
      "execution_count": 8,
      "outputs": [
        {
          "output_type": "stream",
          "name": "stdout",
          "text": [
            "Doraemon used Gadget ➕ to add: 10 + 5 = 15\n",
            "Nobita tried subtraction ➖: 10 - 5 = 5\n"
          ]
        }
      ]
    },
    {
      "cell_type": "code",
      "source": [
        "'''8. Implement a class Person with a class method to count the total number of persons created.'''\n",
        "class Person:\n",
        "    total_persons = 0   # class variable\n",
        "\n",
        "    def __init__(self, name):\n",
        "        self.name = name\n",
        "        Person.total_persons += 1  # increment jab bhi new person banta hai\n",
        "\n",
        "    @classmethod\n",
        "    def show_count(cls):\n",
        "        print(f\"Total Persons Created 👥: {cls.total_persons}\")\n",
        "        return cls.total_persons\n",
        "\n",
        "\n",
        "# Creating Doraemon characters\n",
        "p1 = Person(\"Nobita\")\n",
        "p2 = Person(\"Doraemon\")\n",
        "p3 = Person(\"Shizuka\")\n",
        "p4 = Person(\"Gian\")\n",
        "p5 = Person(\"Suneo\")\n",
        "\n",
        "# Checking total persons\n",
        "Person.show_count()\n"
      ],
      "metadata": {
        "colab": {
          "base_uri": "https://localhost:8080/"
        },
        "id": "trqX1By3GILQ",
        "outputId": "ea0399c9-5122-4129-aea1-34159bb6e85b"
      },
      "execution_count": 9,
      "outputs": [
        {
          "output_type": "stream",
          "name": "stdout",
          "text": [
            "Total Persons Created 👥: 5\n"
          ]
        },
        {
          "output_type": "execute_result",
          "data": {
            "text/plain": [
              "5"
            ]
          },
          "metadata": {},
          "execution_count": 9
        }
      ]
    },
    {
      "cell_type": "code",
      "source": [
        "'''9. Write a class Fraction with attributes numerator and denominator. Override the str method to display the fraction as \"numerator/denominator\".'''\n",
        "class Fraction:\n",
        "    def __init__(self, numerator, denominator):\n",
        "        self.numerator = numerator\n",
        "        self.denominator = denominator\n",
        "\n",
        "    def __str__(self):\n",
        "        return f\"{self.numerator}/{self.denominator}\"\n",
        "\n",
        "\n",
        "# Doraemon ka Gadget: Magic Fractions\n",
        "f1 = Fraction(2, 3)   # 2/3\n",
        "f2 = Fraction(5, 8)   # 5/8\n",
        "\n",
        "print(\"Doraemon ne pehla gadget nikala:\", f1)\n",
        "print(\"Aur doosra gadget nikala:\", f2)\n"
      ],
      "metadata": {
        "colab": {
          "base_uri": "https://localhost:8080/"
        },
        "id": "yhg6pEqjGr4o",
        "outputId": "31a865ea-63c9-4622-dd3a-9ff351bcfbc6"
      },
      "execution_count": 10,
      "outputs": [
        {
          "output_type": "stream",
          "name": "stdout",
          "text": [
            "Doraemon ne pehla gadget nikala: 2/3\n",
            "Aur doosra gadget nikala: 5/8\n"
          ]
        }
      ]
    },
    {
      "cell_type": "code",
      "source": [
        "'''10. Demonstrate operator overloading by creating a class Vector and overriding the add method to add two vectors'''\n",
        "class Vector:\n",
        "    def __init__(self, x, y):\n",
        "        self.x = x\n",
        "        self.y = y\n",
        "\n",
        "    # Overloading the + operator\n",
        "    def __add__(self, other):\n",
        "        return Vector(self.x + other.x, self.y + other.y)\n",
        "\n",
        "    def __str__(self):\n",
        "        return f\"({self.x}, {self.y})\"\n",
        "\n",
        "\n",
        "# Doraemon Gadgets as Vectors\n",
        "bamboo_copter = Vector(3, 4)      # Speed power\n",
        "anywhere_door = Vector(1, 2)      # Travel shortcut\n",
        "\n",
        "# Adding them like operator overloading\n",
        "final_vector = bamboo_copter + anywhere_door\n",
        "\n",
        "print(\"Doraemon ka Bamboo Copter:\", bamboo_copter)\n",
        "print(\"Doraemon ka Anywhere Door:\", anywhere_door)\n",
        "print(\"Dono gadgets milke ban gaye Super Vector:\", final_vector)\n"
      ],
      "metadata": {
        "colab": {
          "base_uri": "https://localhost:8080/"
        },
        "id": "IewaNFM7HLtT",
        "outputId": "e5a81e5d-afcd-454f-b4be-a0835b62cdb3"
      },
      "execution_count": 11,
      "outputs": [
        {
          "output_type": "stream",
          "name": "stdout",
          "text": [
            "Doraemon ka Bamboo Copter: (3, 4)\n",
            "Doraemon ka Anywhere Door: (1, 2)\n",
            "Dono gadgets milke ban gaye Super Vector: (4, 6)\n"
          ]
        }
      ]
    },
    {
      "cell_type": "code",
      "source": [
        "'''11. Create a class Person with attributes name and age. Add a method greet() that prints \"Hello, my name is {name} and I am {age} years old.\"'''\n",
        "class Person:\n",
        "    def __init__(self, name, age):\n",
        "        self.name = name\n",
        "        self.age = age\n",
        "\n",
        "    def greet(self):\n",
        "        print(f\"Hello, my name is {self.name} and I am {self.age} years old.\")\n",
        "\n",
        "\n",
        "# Doraemon Characters\n",
        "nobita = Person(\"Nobita\", 10)\n",
        "shizuka = Person(\"Shizuka\", 10)\n",
        "\n",
        "# Greet scenes\n",
        "nobita.greet()\n",
        "shizuka.greet()\n"
      ],
      "metadata": {
        "colab": {
          "base_uri": "https://localhost:8080/"
        },
        "id": "N_OMuzZ_HWCO",
        "outputId": "b499a100-000e-4ef3-8f7d-3e4bfa0820e9"
      },
      "execution_count": 12,
      "outputs": [
        {
          "output_type": "stream",
          "name": "stdout",
          "text": [
            "Hello, my name is Nobita and I am 10 years old.\n",
            "Hello, my name is Shizuka and I am 10 years old.\n"
          ]
        }
      ]
    },
    {
      "cell_type": "code",
      "source": [
        "'''12. Implement a class Student with attributes name and grades. Create a method average_grade() to compute the average of the grades.'''\n",
        "class Student:\n",
        "    def __init__(self, name, grades):\n",
        "        self.name = name\n",
        "        self.grades = grades\n",
        "\n",
        "    def average_grade(self):\n",
        "        return sum(self.grades) / len(self.grades)\n",
        "\n",
        "\n",
        "# Doraemon School Report\n",
        "nobita = Student(\"Nobita\", [30, 25, 28])\n",
        "shizuka = Student(\"Shizuka\", [90, 85, 88])\n",
        "dekisugi = Student(\"Dekisugi\", [95, 98, 97])\n",
        "\n",
        "# Print average grades\n",
        "print(f\"{nobita.name}'s Average Grade: {nobita.average_grade()}\")\n",
        "print(f\"{shizuka.name}'s Average Grade: {shizuka.average_grade()}\")\n",
        "print(f\"{dekisugi.name}'s Average Grade: {dekisugi.average_grade()}\")\n"
      ],
      "metadata": {
        "colab": {
          "base_uri": "https://localhost:8080/"
        },
        "id": "O12C5Vw7HiAW",
        "outputId": "8bcea60e-1634-414f-fe46-09cc82a742ea"
      },
      "execution_count": 13,
      "outputs": [
        {
          "output_type": "stream",
          "name": "stdout",
          "text": [
            "Nobita's Average Grade: 27.666666666666668\n",
            "Shizuka's Average Grade: 87.66666666666667\n",
            "Dekisugi's Average Grade: 96.66666666666667\n"
          ]
        }
      ]
    },
    {
      "cell_type": "code",
      "source": [
        "'''13. Create a class Rectangle with methods set_dimensions() to set the dimensions and area() to calculate the area.'''\n",
        "class Rectangle:\n",
        "    def __init__(self):\n",
        "        self.length = 0\n",
        "        self.width = 0\n",
        "\n",
        "    def set_dimensions(self, length, width):\n",
        "        self.length = length\n",
        "        self.width = width\n",
        "        print(f\"Dimensions set: Length = {length}, Width = {width}\")\n",
        "\n",
        "    def area(self):\n",
        "        return self.length * self.width\n",
        "\n",
        "\n",
        "# Doraemon homework scene\n",
        "nobita_notebook = Rectangle()\n",
        "\n",
        "# Nobita sets dimensions\n",
        "nobita_notebook.set_dimensions(10, 5)\n",
        "\n",
        "# Calculate area\n",
        "print(f\"Nobita's Homework Notebook Area: {nobita_notebook.area()} sq units\")\n"
      ],
      "metadata": {
        "colab": {
          "base_uri": "https://localhost:8080/"
        },
        "id": "BxFxOHA6HvxQ",
        "outputId": "21e37966-ffa7-46f5-f053-58acba236101"
      },
      "execution_count": 14,
      "outputs": [
        {
          "output_type": "stream",
          "name": "stdout",
          "text": [
            "Dimensions set: Length = 10, Width = 5\n",
            "Nobita's Homework Notebook Area: 50 sq units\n"
          ]
        }
      ]
    },
    {
      "cell_type": "code",
      "source": [
        "'''14. Create a class Employee with a method calculate_salary() that computes the salary based on hours worked and hourly rate. Create a derived class Manager that adds\n",
        " a bonus to the salary.'''\n",
        "# Base class Employee\n",
        "class Employee:\n",
        "    def __init__(self, name, hours_worked, hourly_rate):\n",
        "        self.name = name\n",
        "        self.hours_worked = hours_worked\n",
        "        self.hourly_rate = hourly_rate\n",
        "\n",
        "    def calculate_salary(self):\n",
        "        salary = self.hours_worked * self.hourly_rate\n",
        "        print(f\"{self.name}'s Salary: {salary} coins 💰\")\n",
        "        return salary\n",
        "\n",
        "# Derived class Manager (bonus included)\n",
        "class Manager(Employee):\n",
        "    def __init__(self, name, hours_worked, hourly_rate, bonus):\n",
        "        super().__init__(name, hours_worked, hourly_rate)\n",
        "        self.bonus = bonus\n",
        "\n",
        "    def calculate_salary(self):\n",
        "        salary = super().calculate_salary() + self.bonus\n",
        "        print(f\"{self.name} got a Bonus: {self.bonus} coins 🎉\")\n",
        "        print(f\"{self.name}'s Total Salary: {salary} coins 💼\")\n",
        "        return salary\n",
        "\n",
        "# Objects\n",
        "nobita_employee = Employee(\"Nobita\", 40, 5)\n",
        "doraemon_manager = Manager(\"Doraemon\", 50, 10, 100)\n",
        "\n",
        "# Salary calculation\n",
        "nobita_employee.calculate_salary()\n",
        "print()\n",
        "doraemon_manager.calculate_salary()\n"
      ],
      "metadata": {
        "colab": {
          "base_uri": "https://localhost:8080/"
        },
        "id": "eQfZl0n_H5en",
        "outputId": "f665026e-0181-488c-de4b-15b1f0b2b241"
      },
      "execution_count": 15,
      "outputs": [
        {
          "output_type": "stream",
          "name": "stdout",
          "text": [
            "Nobita's Salary: 200 coins 💰\n",
            "\n",
            "Doraemon's Salary: 500 coins 💰\n",
            "Doraemon got a Bonus: 100 coins 🎉\n",
            "Doraemon's Total Salary: 600 coins 💼\n"
          ]
        },
        {
          "output_type": "execute_result",
          "data": {
            "text/plain": [
              "600"
            ]
          },
          "metadata": {},
          "execution_count": 15
        }
      ]
    },
    {
      "cell_type": "code",
      "source": [
        "'''15. Create a class Product with attributes name, price, and quantity. Implement a method total_price() that calculates the total price of the product.'''\n",
        "\n",
        "class Product:\n",
        "    def __init__(self, name, price, quantity):\n",
        "        self.name = name\n",
        "        self.price = price\n",
        "        self.quantity = quantity\n",
        "\n",
        "    def total_price(self):\n",
        "        total = self.price * self.quantity\n",
        "        print(f\"{self.quantity} x {self.name} = {total} coins 💰\")\n",
        "        return total\n",
        "\n",
        "# Doraemon Shopping Scene\n",
        "dorayaki = Product(\"Dorayaki\", 5, 10)      # Nobita favorite\n",
        "bamboo_copter = Product(\"Bamboo Copter\", 50, 2)\n",
        "anywhere_door = Product(\"Anywhere Door\", 100, 1)\n",
        "\n",
        "# Total prices\n",
        "dorayaki.total_price()\n",
        "bamboo_copter.total_price()\n",
        "anywhere_door.total_price()\n"
      ],
      "metadata": {
        "colab": {
          "base_uri": "https://localhost:8080/"
        },
        "id": "nhH_x_lqIFBt",
        "outputId": "e02f5fc3-4b6a-40d4-cf98-93ed2249ed1c"
      },
      "execution_count": 17,
      "outputs": [
        {
          "output_type": "stream",
          "name": "stdout",
          "text": [
            "10 x Dorayaki = 50 coins 💰\n",
            "2 x Bamboo Copter = 100 coins 💰\n",
            "1 x Anywhere Door = 100 coins 💰\n"
          ]
        },
        {
          "output_type": "execute_result",
          "data": {
            "text/plain": [
              "100"
            ]
          },
          "metadata": {},
          "execution_count": 17
        }
      ]
    },
    {
      "cell_type": "code",
      "source": [
        "'''16. Create a class Animal with an abstract method sound(). Create two derived classes Cow and Sheep that implement the sound() method.'''\n",
        "from abc import ABC, abstractmethod\n",
        "\n",
        "# Abstract class\n",
        "class Animal(ABC):\n",
        "    @abstractmethod\n",
        "    def sound(self):\n",
        "        pass\n",
        "\n",
        "# Cow = Nobita's Cow 🐄\n",
        "class Cow(Animal):\n",
        "    def sound(self):\n",
        "        print(\"Cow says: Moo! 🐄\")\n",
        "\n",
        "# Sheep = Shizuka's Sheep 🐑\n",
        "class Sheep(Animal):\n",
        "    def sound(self):\n",
        "        print(\"Sheep says: Baa! 🐑\")\n",
        "\n",
        "# Objects\n",
        "nobita_cow = Cow()\n",
        "shizuka_sheep = Sheep()\n",
        "\n",
        "# Animal sounds\n",
        "nobita_cow.sound()\n",
        "shizuka_sheep.sound()\n"
      ],
      "metadata": {
        "colab": {
          "base_uri": "https://localhost:8080/"
        },
        "id": "vSagyBcKIXcD",
        "outputId": "47a9b1f5-184a-4687-f310-ada1e72b2a87"
      },
      "execution_count": 18,
      "outputs": [
        {
          "output_type": "stream",
          "name": "stdout",
          "text": [
            "Cow says: Moo! 🐄\n",
            "Sheep says: Baa! 🐑\n"
          ]
        }
      ]
    },
    {
      "cell_type": "code",
      "source": [
        "'''17. Create a class Book with attributes title, author, and year_published. Add a method get_book_info() that returns a formatted string with the book's details.'''\n",
        "class Book:\n",
        "    def __init__(self, title, author, year_published):\n",
        "        self.title = title\n",
        "        self.author = author\n",
        "        self.year_published = year_published\n",
        "\n",
        "    def get_book_info(self):\n",
        "        return f\"'{self.title}' by {self.author}, Published in {self.year_published}\"\n",
        "\n",
        "\n",
        "# Doraemon Library\n",
        "book1 = Book(\"Doraemon: Gadget Adventures\", \"Fujiko F. Fujio\", 1970)\n",
        "book2 = Book(\"Nobita's Science Notebook\", \"Fujiko F. Fujio\", 1980)\n",
        "\n",
        "# Get book info\n",
        "print(\"Library Book Info:\")\n",
        "print(book1.get_book_info())\n",
        "print(book2.get_book_info())\n"
      ],
      "metadata": {
        "colab": {
          "base_uri": "https://localhost:8080/"
        },
        "id": "0bxXq70mIiFC",
        "outputId": "a2ce06b7-9bfb-41eb-be34-5aa9c30ceade"
      },
      "execution_count": 19,
      "outputs": [
        {
          "output_type": "stream",
          "name": "stdout",
          "text": [
            "Library Book Info:\n",
            "'Doraemon: Gadget Adventures' by Fujiko F. Fujio, Published in 1970\n",
            "'Nobita's Science Notebook' by Fujiko F. Fujio, Published in 1980\n"
          ]
        }
      ]
    },
    {
      "cell_type": "code",
      "source": [
        "'''18. Create a class House with attributes address and price. Create a derived class Mansion that adds an attribute number_of_rooms.'''\n",
        "# Base class House 🏠\n",
        "class House:\n",
        "    def __init__(self, address, price):\n",
        "        self.address = address\n",
        "        self.price = price\n",
        "\n",
        "    def show_info(self):\n",
        "        print(f\"House at {self.address} costs {self.price} coins 💰\")\n",
        "\n",
        "# Derived class Mansion = Gian ka fancy mansion 🏰\n",
        "class Mansion(House):\n",
        "    def __init__(self, address, price, number_of_rooms):\n",
        "        super().__init__(address, price)\n",
        "        self.number_of_rooms = number_of_rooms\n",
        "\n",
        "    def show_info(self):\n",
        "        super().show_info()\n",
        "        print(f\"It has {self.number_of_rooms} rooms 🛏️\")\n",
        "\n",
        "# Objects\n",
        "nobita_house = House(\"Nobi Street, 5\", 1000)\n",
        "gian_mansion = Mansion(\"Gian Street, 1\", 10000, 10)\n",
        "\n",
        "# Display info\n",
        "print(\"=== Nobita's House ===\")\n",
        "nobita_house.show_info()\n",
        "\n",
        "print(\"\\n=== Gian's Mansion ===\")\n",
        "gian_mansion.show_info()\n"
      ],
      "metadata": {
        "colab": {
          "base_uri": "https://localhost:8080/"
        },
        "id": "G_fCXnuWIrue",
        "outputId": "ac1df189-b268-47b0-8944-53091ab520c6"
      },
      "execution_count": 20,
      "outputs": [
        {
          "output_type": "stream",
          "name": "stdout",
          "text": [
            "=== Nobita's House ===\n",
            "House at Nobi Street, 5 costs 1000 coins 💰\n",
            "\n",
            "=== Gian's Mansion ===\n",
            "House at Gian Street, 1 costs 10000 coins 💰\n",
            "It has 10 rooms 🛏️\n"
          ]
        }
      ]
    },
    {
      "cell_type": "markdown",
      "source": [
        "#Thank You!"
      ],
      "metadata": {
        "id": "f1JllPbzI7bk"
      }
    }
  ]
}